{
 "cells": [
  {
   "cell_type": "markdown",
   "id": "fifty-guide",
   "metadata": {},
   "source": [
    "## Case only design in the context of GLMM"
   ]
  },
  {
   "cell_type": "markdown",
   "id": "banner-elephant",
   "metadata": {},
   "source": [
    "- Investigators use case subjects only to assess the maginitude of the association between the exposure of interest and the suseptibility genotype, aka, gene by environment interaction, in the context of a case-only study.\n",
    "- The concept can be generalized to interaction between any two risk factors whether it be genotypes or environmental factors.\n",
    "- We first consider the traditional analysis of gene-environment (or two exposure factors') interaction in a regular case-control study and delve into the connection with the generalized linear mixed model (GLMM) for case-only study to test the interaction."
   ]
  },
  {
   "cell_type": "markdown",
   "id": "cosmetic-finance",
   "metadata": {},
   "source": [
    "### Synergy index (or synergy factor)"
   ]
  },
  {
   "cell_type": "markdown",
   "id": "worth-canberra",
   "metadata": {},
   "source": [
    "First consider the traditional analysis of gene-environment (or two exposure factors') interaction in a regular case-control study in a $4 \\times 2$ table analysis.\n",
    "\n",
    " In a multiplicative model, *joint odds ratio = odds ratio for Exposure x odds ratio for genotypes*:"
   ]
  },
  {
   "cell_type": "markdown",
   "id": "handed-steps",
   "metadata": {},
   "source": [
    "\n",
    "| Exposure  |     Susceptibility genotype |  Case |    Controls   |  Odds ratios|\n",
    "|-----------|:-----------:|:-----------:|:--------:|------------:|\n",
    "| -           |         -        |            a   |       b    |           1(reference) |\n",
    "| -            |        +        |            c   |       d    |         OR_g = $\\frac{c/a}{d/b}=\\frac{bc}{ad}$   |\n",
    "| +             |       -        |            e   |       f    |        OR_e = $\\frac{e/a}{f/b}=\\frac{be}{af}$|     \n",
    "|  +            |  +             |        g       |    h       |      OR_ge = $\\frac{g/a}{h/b}=\\frac{bg}{ah}$|\n",
    "\n",
    "\n",
    "(+: present, -: absent)\n"
   ]
  },
  {
   "cell_type": "markdown",
   "id": "crucial-archive",
   "metadata": {},
   "source": [
    "- **synergy factor (SF)** or **synergy index  (SIM)** is defined as \n",
    "\n",
    "$$ SF (or SIM) = \\frac{OR_{ge}}{OR_g \\times OR_e} = \\frac{\\text{Observed joint } OR}{\\text{expected } OR}$$ \n",
    "\n",
    "when assuming two independent factors (or effects),"
   ]
  },
  {
   "cell_type": "markdown",
   "id": "iraqi-census",
   "metadata": {},
   "source": [
    "- $SF>1$ : a positive (or synergy) interaction between two factors\n",
    "\n",
    "- $SF<1$ : a negative (or antagonism) interaction between two factors\n",
    "\n",
    "\n",
    "\n",
    "- **Note**: Adjustment for other potentional confounding variables can be done by logistic models; any association between a genotype and a disease in a case-control study may or may not reflect a true causal role of the allele due to LD with a disease suseptability allele at a nearby locus or due to confounding as a result of population stratification.\n"
   ]
  },
  {
   "cell_type": "markdown",
   "id": "ancient-montgomery",
   "metadata": {},
   "source": [
    "### Case only odds ratio (COR)"
   ]
  },
  {
   "cell_type": "markdown",
   "id": "paperback-hollywood",
   "metadata": {},
   "source": [
    "- OR's and confidence intervals (CI's) : using contingency tables or logistic models after adjusting other covariates\n",
    "\n",
    "The basic setup for case only analysis is a $2\\times 2$ table extracted from the above $4\\times 2$ table:\n",
    "\n",
    "\n",
    "|  Exposure      |  Suseptability genotype | odds ratio |\n",
    "|-------------|:---------------:|----------:|\n",
    "| -          | a       c  |                         |\n",
    "|+           | e       g  | $\\frac{g/c}{e/a}=\\frac{ag}{ce}$|\n",
    "|   |          -         +            |        |\n",
    "\n",
    "Likewise, the table for the controls is :\n",
    "\n",
    "|  Exposure      |  Suseptability genotype | odds ratio |\n",
    "|-------------|:---------------:|----------:|\n",
    "| -          | b       d  |                         |\n",
    "|+           | f       h  | $\\frac{h/d}{f/b}=\\frac{bh}{df}$|\n",
    "|   |          -         +            |        |"
   ]
  },
  {
   "cell_type": "markdown",
   "id": "architectural-dealer",
   "metadata": {},
   "source": [
    "- **Case-only odds ratio (COR)** is defined as a function of OR_e, OR_g, and joint OR_ge in a standard case-control study:"
   ]
  },
  {
   "cell_type": "markdown",
   "id": "synthetic-franklin",
   "metadata": {},
   "source": [
    "$$ COR =  \\frac{OR_{ge}}{OR_g \\times OR_e} \\times Z $$\n",
    "\n",
    "$$ \\rightarrow \\frac{ag}{ce} = \\frac{bg/ah}{bc/ad \\cdot be/af}\\times \\frac{bh}{df}  $$\n",
    "\n",
    "where OR relating the exposure and the suseptibility genotype in the controls, $Z=\\frac{P(E=1,G=1|Y=0)/P(E=0,G=1|Y=0)}{P(E=1,G=0|Y=0)/P(E=0,G=0|Y=0)}$ for E, G are Exposure and suseptible genotype, respectively, as in the 2 $\\times$ 2 table for control only."
   ]
  },
  {
   "cell_type": "markdown",
   "id": "separate-learning",
   "metadata": {},
   "source": [
    "**If the exposure and the genotype are independent in the population, Z = 1 $\\to$ $COR = SF$**\n",
    "\n",
    "$\\to$ **Under the null, $H_0$: no interaction (or multiplicative effects), expect $COR=SF=1$ or $\\ln COR =\\ln SF=0$.**\n",
    "\n",
    "**One can test $H_0$ with COR for case-only study under the independence assumption. The standard error of COR requires a rare disease assumption for it to equate SF in case-control studies.** (detailed proof is shown in the later section)"
   ]
  },
  {
   "cell_type": "markdown",
   "id": "located-bowling",
   "metadata": {},
   "source": [
    "To see if SF is statistically significant, the distribution of $\\ln OR$ using the delta method is approximated, and one can find the confidence interval (CI).\n",
    "\n",
    "Under $H_0$: no interaction exists, i.e. $OR=1$, the distribution of $\\ln OR$ follows asymptotic normal with 0 mean and $se(\\ln OR)= \\sqrt{\\sum_{i=1}^{4}1/n_i}$, where $n_i$ are frequencies of the $2\\times 2 $ table."
   ]
  },
  {
   "cell_type": "markdown",
   "id": "artificial-console",
   "metadata": {},
   "source": [
    "Similarly in a regular case control study, the distribution of $\\ln SF= \\ln OR_{12}-\\ln OR_{1}- \\ln OR_{2} $ asymptotically  approximates $se(\\ln SF)=\\sqrt{\\sum_{i=1}^{8}1/n_i} $, where $n_i$ are frequencies of the $4\\times 2 $ table.  **If the disease is rare, this $se$ is approximately equal to $se$ in the case-only study.**\n",
    "\n",
    "The test statistic, \n",
    "$$z=\\frac{\\ln SF}{se(\\ln SF)} $$\n",
    "\n",
    "follows asymptotically standard normal under $H_0$: no interaction.\n",
    "\n",
    "- Note: \n",
    "\n",
    "1. For at least one empty cell, one can add $0.5$ to each cell in the table by Anscombe (1956) and Breslow (1981)\n",
    "\n",
    "2. The CI for $(1-\\alpha)*100 \\%$ can also be obtained  by exponentiating the CI of $\\ln SF$, i.e. $\\exp( \\ln SF \\pm z_{1-\\alpha/2} se(\\ln SF)) $\n"
   ]
  },
  {
   "cell_type": "markdown",
   "id": "italic-cheese",
   "metadata": {},
   "source": [
    "### Anaysis in the context of GLMM"
   ]
  },
  {
   "cell_type": "markdown",
   "id": "french-candy",
   "metadata": {},
   "source": [
    "Now we establish that  $\\ln(SF)$ is equivalent to the interaction term by two binary factors in a mixed-effects logistic regression model in case-control analysis, under independence and rare disease assumptions."
   ]
  },
  {
   "cell_type": "markdown",
   "id": "resistant-thumb",
   "metadata": {},
   "source": [
    "Let $Y$ be a random binary variable the presence or absence of the outcome disease.  $x_e$ and $x_g$ are two exposure factors (e.g. exposure, suseptibility genotype, respectively)."
   ]
  },
  {
   "cell_type": "markdown",
   "id": "shared-stocks",
   "metadata": {},
   "source": [
    "Denote $p_{ij}$ be the probability of occuring the disease when $x_e$ and $x_g$ belonging to the corresponding categories $i\\in \\{0,\\cdots,I\\}$, and $j\\in \\{0,\\cdots,J\\}$.\n",
    "\n",
    "Let $(i,j)=(0,0)$ be the baseline category.  $OR_{i0}$, $OR_{0j}$, $OR_{ij}$ are OR's in terms of the baseline for $x_e$, $x_g$, and $x_{eg}$, respectively.\n",
    "\n",
    "For a mixed-effects logistic regression model, \n",
    "\n",
    "$$ logit(p_{ij})= \\log \\frac{p_{ij}}{1-p_{ij}} = P(Y=1|x_e=i,x_g=j, \\mathbf{Z}, \\mathbf{g})= \\beta_0 +\\beta_ex_e+\\beta_gx_g+\\beta_{eg}x_{eg} + \\mathbf{ZC} + \\mathbf{g},$$"
   ]
  },
  {
   "cell_type": "markdown",
   "id": "satellite-soldier",
   "metadata": {},
   "source": [
    "where $x_{eg}= x_ex_g$, $\\mathbf{Z}$ are interaction and covariates, respectively. $\\mathbf{g}$ is random effect. WLOG, we consider the logisitc regression model dropping random and other covariates, and two categories ($I=J=2$) as in the contingency tables.\n",
    " \n",
    " $$ logit(p_{ij})= \\log \\frac{p_{ij}}{1-p_{ij}} = P(Y=1|x_e=i,x_g=j)$$"
   ]
  },
  {
   "cell_type": "markdown",
   "id": "racial-cause",
   "metadata": {},
   "source": [
    "One can then solve the four parameters $\\beta$'s with respect to the corresponding probabilities, $p_{ij}$'s as follows:\n",
    "\n",
    "$$\\beta_0= logit(p_{00}),\\, \\beta_e=logit(p_{10})- \\beta_0= \\ln OR_{10} $$\n",
    "\n",
    "$$\\beta_g=logit(p_{01})-\\beta_0= \\ln OR_{01} $$\n",
    "\n",
    "$$\\beta_{eg}= logit(p_{11}) - \\ln OR_{01}- \\ln OR_{10} -\\beta_0 = \\ln(\\frac{OR_{11}}{OR_{10}OR_{01}}) = \\ln SF .$$\n",
    "\n"
   ]
  },
  {
   "cell_type": "markdown",
   "id": "maritime-update",
   "metadata": {},
   "source": [
    "### Cases-only interaction analysis as a GLMM problem"
   ]
  },
  {
   "cell_type": "markdown",
   "id": "foreign-reminder",
   "metadata": {},
   "source": [
    "**Proposition**  Assume that\n",
    "\n",
    "1. the suseptibility genotype and exposure occurs independently in the population\n",
    "\n",
    "2. the disease is rare\n",
    "\n",
    "Then, the interaction parameters can be estimated by means of *case data alone*, \n",
    "\n",
    "i.e.  $$logit(P(x_e=i|x_g=j,Y=1, \\mathbf{Z}, \\mathbf{g}))=logit(p_{ij}) = \\beta_0+ \\beta_j x_g  + \\mathbf{ZC} + \\mathbf{g}, $$\n",
    "\n",
    "where $x_e$ and $x_g$ are exposures, genotypes, respectively, $\\mathbf{Z}$ are covariates, and $\\mathbf{g}$ is background genetic relatedness following $N(0, \\tau^2 K)$, in which $\\tau^2$, and $K$ are a genetic variance and a genetic relatedness matrix, respectively. "
   ]
  },
  {
   "cell_type": "markdown",
   "id": "contrary-cream",
   "metadata": {},
   "source": [
    "**Proof**) Consider a mixed-effects logistic model in a case control study, \n",
    "\n",
    "$$P(Y=1| x_e=i, x_g=j, \\mathbf{Z}, \\mathbf{g}) = \\ln(\\frac{p_{ij}}{1-p_{ij}}) = \\beta_0 + \\beta_{i} x_e+\\beta_j x_g+ \\beta_{ij}x_{eg} + \\mathbf{ZC} + \\mathbf{g}, $$\n",
    "\n",
    "where  $\\beta_{ij}$ is an interaction term between the two categories, \n",
    "$p_{ij}$ be the probability of occuring the disease when $x_e$ and $x_g$ belong to $i \\in \\{0,\\cdots,I-1\\}$ and $j\\in \\{0,\\cdots,J-1\\}$, and $(i,j)=(0,0)$ is the baseline category.   \n",
    "\n",
    "Let  $OR_{i0}$, $OR_{0j}$, $OR_{ij}$ be OR's in terms of the baseline for $x_e$, $x_g$, and $x_{eg}$, respectively.  \n",
    "WLOG, we simplify the notation by dropping $\\mathbf{Z}$ and $\\mathbf{g}$ to focus on the targeted explanatory variables.\n",
    "\n",
    "Let us start with the odds ratio and the interaction term is  $\\exp(\\beta_{ij})=\\frac{OR_{ij}}{OR_{i0}OR_{0j}}$"
   ]
  },
  {
   "cell_type": "markdown",
   "id": "prompt-assets",
   "metadata": {},
   "source": [
    "Using the Bayes' rule, e.g. $P(Y=1|x_1=i, x_2=j)= \\frac{P(x_1=i, x_2=j|Y=1)P(Y=1)}{P(x_1=i, x_2=j)}$ and the cancellation law yield\n",
    "\n",
    "$$\\frac{OR_{ij}}{OR_{i0}OR_{0j}} = \\frac{P(x_e=i, x_g=j|Y=1)P(x_e=0,x_g=0|Y=1)P(x_e=0,x_g=j|Y=0)P(x_e=i, x_g=0|Y=0)}{P(x_e=i,x_g=j|Y=0)P(x_e=0,x_g=0|Y=0)P(x_e=0,x_g=j|Y=1)P(x_e=i,x_g=0|Y=1)}  .$$\n",
    "\n",
    "Using the Bayes' rule again, e.g. $P(x_e=i,x_g=j|Y=1)=P(x_e=i|x_g=j,Y=1)P(x_g=j,Y=1)$ gives rise to \n",
    "\n",
    "\n",
    "\\begin{eqnarray}\n",
    "\\frac{OR_{ij}}{OR_{i0}OR_{0j}} &=& \\frac{P(x_e=i|x_g=j,Y=1)P(x_e=0|x_g=0,Y=1)P(x_e=0|x_g=j,Y=0)P(x_e=i|x_g=0,Y=0)}{P(x_e=1|x_g=j,Y=0)P(x_e=0|x_g=0,Y=0)P(x_e=0|x_g=j,Y=1)P(x_e=i|x_g=0,Y=1)}\\\\ \\\\\n",
    "&=& \\frac{P(x_e=i|x_g=j,Y=1)P(x_e=0|x_g=0,Y=1)}{P(x_e=0|x_g=j,Y=1)P(x_e=i|x_g=0,Y=1)}\\times \\frac{P(x_e=0|x_g=j,Y=0)P(x_e=i|x_g=0,Y=0)}{P(x_e=i|x_g=j,Y=0)P(x_e=0|x_g=0,Y=0)} \\label{eq:or1}\\tag{1}\n",
    "\\end{eqnarray}\n",
    "\n",
    "\n",
    "The independence between the two factors in the population implies\n",
    "\n",
    "$$ \\frac{P(x_e=i|x_g=j)}{P(x_e=0|x_g=j)} = \\frac{P(x_e=i|x_g=0)}{P(x_e=0|x_g=0)}. $$\n",
    "\n",
    "One can simplify the above odds ratio using the following relation as well:\n",
    "\n",
    "$$ P(x_e=i|x_g=j)=P(x_e=i|x_g=j,Y=1)P(Y=1|x_g=j) + P(x_e=i|x_g=j,Y=0)P(Y=0|x_g=j)\\,\\,\\text{for all } i,j. \\label{eq:pr1}\\tag{2}$$\n",
    "\n",
    "Let $\\delta_j=P(Y=1|x_g=j)$, and $1-\\delta_j = P(Y=0|x_g=j)$, and $\\omega_{ij}= P(x_e=i|x_g=j,Y=1)-P(x_e=i|x_g=j, Y=0)$.\n",
    "\n",
    "Then, $$ P(x_e=i|x_g=j)= \\omega_{ij}\\delta_j + P(x_e=i|x_g=j,Y=0)\\,\\,\\text{for all } i,j $$, so that the second term on the RHS in (\\ref{eq:or1}) is \n",
    "\n",
    "$$ \\frac{(\\omega_{0j}\\delta_j)(\\omega_{i0}\\delta_0)+\\omega_{i0}\\delta_0P(x_e=0|x_g=j,Y=0)+\\omega_{0j}\\delta_jP(x_e=i|x_g=0,Y=0)+P(x_e=0|x_g=j,Y=0)P(x_e=i|x_g=0,Y=0)}{(\\omega_{ij}\\delta_j)(\\omega_{00}\\delta_0)+\\omega_{00}\\delta_0P(x_e=i|x_g=j,Y=0)+\\omega_{ij}\\delta_jP(x_e=0|x_g=0,Y=0)+P(x_e=i|x_g=j,Y=0)P(x_e=0|x_g=0,Y=0)} $$\n",
    "\n",
    "\n",
    "By the rare disease assumption, $P(Y=1|x_g=j)$ is negligible at all $j$ genetic states \n",
    "$\\rightarrow P(x_e=i|x_g=j)\\approx P(x_e=i|x_g=j,Y=0)$, so that the second term on the RHS in (\\ref{eq:or1}) leads to \n",
    "\n",
    "$$ \\frac{P(x_e=0|x_g=j,Y=0)P(x_e=i|x_g=0,Y=0)}{P(x_e=i|x_g=j,Y=0)P(x_e=0|x_g=0,Y=0)}\\approx 1  $$"
   ]
  },
  {
   "cell_type": "markdown",
   "id": "violent-allowance",
   "metadata": {},
   "source": [
    "Therefore, the interaction term at $x_e=i \\text{ and } x_g=j$ becomes \n",
    "\n",
    "$$\n",
    " \\beta_{ij}\\approx \\ln \\left( \\frac{P(x_e=i|x_g=j,Y=1)P(x_e=0|x_g=0,Y=1)}{P(x_e=0|x_g=j,Y=1)P(x_e=i|x_g=0,Y=1)} \\right) \\label{eq:bij}\\tag{3}\n",
    "$$ \n",
    "\n",
    ", which does not contain any terms pertaining to controls only, and this is the main effect odds ratio for $x_e$ as related to the genotype $x_g$.  That is, $\\beta_{ij}$ in (\\ref{eq:bij}) can be expresses as \n",
    "\n",
    "$$\\beta_{ij}\\approx logit(P(x_e=i|x_g=j,Y=1, \\mathbf{Z}, \\mathbf{g}))=logit(p_{ij}) = \\beta_0+ \\beta_j x_g,   $$\n",
    "\n",
    "$$ \\beta_0 =  logit(p_{00}) , \\,\\, \\beta_j=logit(p_{ij})-\\beta_0=logit(OR_{ij}).$$"
   ]
  },
  {
   "cell_type": "markdown",
   "id": "associate-trick",
   "metadata": {},
   "source": [
    "### References"
   ]
  },
  {
   "cell_type": "markdown",
   "id": "fifth-bradford",
   "metadata": {},
   "source": [
    "1. Khoury, M. J., & Flanders, W. D. (1996). Nontraditional epidemiologic approaches in the analysis of gene environment interaction: Case-control studies with no controls!. American journal of epidemiology, 144(3), 207-213.\n",
    "\n",
    "2. Cortina-Borja, M., Smith, A. D., Combarros, O., & Lehmann, D. J. (2009). The synergy factor: a statistic to measure interactions in complex diseases. BMC Research Notes, 2(1), 1-7.\n",
    "\n",
    "3. Breslow, N. (1981). Odds ratio estimators when the data are sparse. Biometrika, 68(1), 73-84.\n",
    "\n",
    "4. Anscombe, F. J. (1956). On estimating binomial response relations. Biometrika, 43(3/4), 461-464.\n",
    "\n",
    "5. Piegorsch, W. W., Weinberg, C. R., & Taylor, J. A. (1994). Non‐hierarchical logistic models and case‐only designs for assessing susceptibility in population‐based case‐control studies. Statistics in medicine, 13(2), 153-162.\n",
    "\n",
    "6. Schmidt S, Schaid DJ. Potential misinterpretation of the case-only study to assess gene-environment interaction. Am J Epidemiol. 1999 Oct 15;150(8):878-85. doi: 10.1093/oxfordjournals.aje.a010093. PMID: 10522659."
   ]
  },
  {
   "cell_type": "code",
   "execution_count": null,
   "id": "composite-samoa",
   "metadata": {},
   "outputs": [],
   "source": []
  }
 ],
 "metadata": {
  "kernelspec": {
   "display_name": "Python 3",
   "language": "python",
   "name": "python3"
  },
  "language_info": {
   "codemirror_mode": {
    "name": "ipython",
    "version": 3
   },
   "file_extension": ".py",
   "mimetype": "text/x-python",
   "name": "python",
   "nbconvert_exporter": "python",
   "pygments_lexer": "ipython3",
   "version": "3.8.5"
  }
 },
 "nbformat": 4,
 "nbformat_minor": 5
}
